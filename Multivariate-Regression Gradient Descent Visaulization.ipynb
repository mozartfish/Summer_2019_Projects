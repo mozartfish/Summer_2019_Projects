{
 "cells": [
  {
   "cell_type": "code",
   "execution_count": 19,
   "metadata": {},
   "outputs": [],
   "source": [
    "import numpy as np\n",
    "import matplotlib.pyplot as plt"
   ]
  },
  {
   "cell_type": "code",
   "execution_count": 20,
   "metadata": {},
   "outputs": [],
   "source": [
    "# generate some random data\n",
    "num_points = 20\n",
    "theta0 = 2\n",
    "theta1 = 0;\n",
    "x = np.linspace(-1, 1, num_points)\n",
    "y = theta0 + (theta1 * x)\n"
   ]
  },
  {
   "cell_type": "code",
   "execution_count": 21,
   "metadata": {},
   "outputs": [
    {
     "data": {
      "image/png": "[encoded data removed]",
      "text/plain": [
       "<Figure size 720x442.8 with 2 Axes>"
      ]
     },
     "metadata": {
      "needs_background": "light"
     },
     "output_type": "display_data"
    }
   ],
   "source": [
    "# table where LHS contains the data and the RHS represents the cost function\n",
    "fig, ax = plt.subplots(nrows=1, ncols=2, figsize=(10,6.15))\n",
    "ax[0].scatter(x, y, marker='x', s=40, color='k')\n",
    "\n",
    "def cost_function(theta0, theta1):\n",
    "    \"The cost function for linear regression that uses Mean Least Squares\"\n",
    "    theta0 = np.atleast_3d(np.asarray(theta0))\n",
    "    theta1 = np.atleast_3d(np.asarray(theta1))\n",
    "    \n",
    "    return np.average((y - hypothesis(x, theta0, theta1)) ** 2, axis = 2) / 2\n",
    "\n",
    "def hypothesis(x, theta0, theta1):\n",
    "    return theta0 + theta1 * x\n"
   ]
  },
  {
   "cell_type": "code",
   "execution_count": 22,
   "metadata": {},
   "outputs": [
    {
     "data": {
      "text/plain": [
       "<matplotlib.collections.PathCollection at 0x21a6e19c748>"
      ]
     },
     "execution_count": 22,
     "metadata": {},
     "output_type": "execute_result"
    }
   ],
   "source": [
    "# define grids for the contour plot graph\n",
    "theta0_grid = np.linspace(-1, 4, 101)\n",
    "theta1_grid = np.linspace(-5, 5, 101)\n",
    "J_grid = cost_function(theta0_grid[np.newaxis,:,np.newaxis],\n",
    "                       theta1_grid[:, np.newaxis, np.newaxis])\n",
    "\n",
    "# Cost Function Contour Plot Graph\n",
    "X, Y = np.meshgrid(theta0_grid, theta1_grid)\n",
    "contours = ax[1].contour(X, Y, J_grid, 30)\n",
    "ax[1].clabel(contours)\n",
    "\n",
    "# labels for the cost function contour plot graph\n",
    "ax[1].scatter([theta0] * 2, [theta1] * 2, s= [50, 10], color = ['k', 'w'])"
   ]
  },
  {
   "cell_type": "code",
   "execution_count": 23,
   "metadata": {},
   "outputs": [],
   "source": [
    "# Training the model starting at theta0 = 0 and theta1 = 0\n",
    "num_iters = 5\n",
    "learning_rate = 0.7\n",
    "theta = [np.array((0, 0))]\n",
    "J = [cost_function(*theta[0])[0]]\n",
    "for k in range(num_iters - 1):\n",
    "    previous_theta = theta[-1]\n",
    "    current_theta = np.empty((2,))\n",
    "    current_theta[0] = previous_theta[0] - learning_rate / num_points * np.sum(\n",
    "                                                                        (hypothesis(x, *previous_theta) - y))\n",
    "    current_theta[1] = previous_theta[1] - learning_rate / num_points * np.sum(\n",
    "                                                                        (hypothesis(x, *previous_theta) - y) * x)\n",
    "    theta.append(current_theta)\n",
    "    J.append(cost_function(*current_theta))\n"
   ]
  },
  {
   "cell_type": "code",
   "execution_count": 24,
   "metadata": {},
   "outputs": [
    {
     "data": {
      "text/plain": [
       "<matplotlib.collections.PathCollection at 0x21a6d98cc88>"
      ]
     },
     "execution_count": 24,
     "metadata": {},
     "output_type": "execute_result"
    }
   ],
   "source": [
    "# draw graphs\n",
    "colors = ['b', 'g', 'm', 'c', 'orange']\n",
    "ax[0].plot(x, hypothesis(x, *theta[0]), color = colors[0], lw = 2,\n",
    "          label=r'$\\theta_0 = {:.3f}, \\theta_1 = {:.3f}$'.format(*theta[0]))\n",
    "\n",
    "for i in range(1, num_iters):\n",
    "    ax[1].annotate('', xy=theta[i], xytext=theta[i-1], arrowprops={'arrowstyle': '->', 'color': 'r', 'lw': 1},\n",
    "                   va='center', ha='center')\n",
    "    ax[0].plot(x, hypothesis(x, *theta[i]), color=colors[i], lw=2, \n",
    "               label=r'$\\theta_0 = {:.3f}, \\theta_1 = {:.3f}$'.format(*theta[i]))\n",
    "ax[1].scatter(*zip(*theta), c=colors, s=40, lw=0)"
   ]
  },
  {
   "cell_type": "code",
   "execution_count": 27,
   "metadata": {},
   "outputs": [],
   "source": [
    "# Labels for the graphs\n",
    "ax[1].set_xlabel(r'$\\theta_0$')\n",
    "ax[1].set_ylabel(r'$\\theta_1$')\n",
    "ax[1].set_title('Cost function')\n",
    "ax[0].set_xlabel(r'$x$')\n",
    "ax[0].set_ylabel(r'$y$')\n",
    "ax[0].set_title('Data and fit')\n",
    "axbox = ax[0].get_position()\n",
    "ax[0].legend(loc=(axbox.x0+0.5*axbox.width, axbox.y0+0.1*axbox.height), fontsize='small')\n",
    "\n",
    "plt.show()"
   ]
  },
  {
   "cell_type": "code",
   "execution_count": null,
   "metadata": {},
   "outputs": [],
   "source": []
  }
 ],
 "metadata": {
  "kernelspec": {
   "display_name": "Python 3",
   "language": "python",
   "name": "python3"
  },
  "language_info": {
   "codemirror_mode": {
    "name": "ipython",
    "version": 3
   },
   "file_extension": ".py",
   "mimetype": "text/x-python",
   "name": "python",
   "nbconvert_exporter": "python",
   "pygments_lexer": "ipython3",
   "version": "3.6.8"
  }
 },
 "nbformat": 4,
 "nbformat_minor": 2
}
